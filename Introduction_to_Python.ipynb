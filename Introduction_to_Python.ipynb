{
  "nbformat": 4,
  "nbformat_minor": 0,
  "metadata": {
    "colab": {
      "provenance": []
    },
    "kernelspec": {
      "name": "python3",
      "display_name": "Python 3"
    },
    "language_info": {
      "name": "python"
    }
  },
  "cells": [
    {
      "cell_type": "markdown",
      "source": [
        "\n",
        "Welcome to Introduction to python\n",
        "\n",
        "\n"
      ],
      "metadata": {
        "id": "DjWW9nDwYBgo"
      }
    },
    {
      "cell_type": "code",
      "source": [
        "!python --version"
      ],
      "metadata": {
        "colab": {
          "base_uri": "https://localhost:8080/"
        },
        "id": "toW3uEFKYvtk",
        "outputId": "e04e1558-4598-4084-c57b-f8522cb4d610"
      },
      "execution_count": null,
      "outputs": [
        {
          "output_type": "stream",
          "name": "stdout",
          "text": [
            "Python 3.10.12\n"
          ]
        }
      ]
    },
    {
      "cell_type": "code",
      "execution_count": null,
      "metadata": {
        "colab": {
          "base_uri": "https://localhost:8080/"
        },
        "id": "66E23VTWX-Ib",
        "outputId": "c567507f-c691-4923-f3ed-51911573cbe1"
      },
      "outputs": [
        {
          "output_type": "stream",
          "name": "stdout",
          "text": [
            "\n"
          ]
        }
      ],
      "source": [
        "print (\"My first Python code!\")"
      ]
    },
    {
      "cell_type": "code",
      "source": [
        "input('Write something')"
      ],
      "metadata": {
        "colab": {
          "base_uri": "https://localhost:8080/",
          "height": 53
        },
        "id": "Xr73GQwrYBGf",
        "outputId": "4049fcc2-1210-4ddf-bd75-2ccf2a351404"
      },
      "execution_count": null,
      "outputs": [
        {
          "name": "stdout",
          "output_type": "stream",
          "text": [
            "Write somethinghi\n"
          ]
        },
        {
          "output_type": "execute_result",
          "data": {
            "text/plain": [
              "'hi'"
            ],
            "application/vnd.google.colaboratory.intrinsic+json": {
              "type": "string"
            }
          },
          "metadata": {},
          "execution_count": 7
        }
      ]
    },
    {
      "cell_type": "markdown",
      "source": [
        "Arithmetic Operations"
      ],
      "metadata": {
        "id": "3ElrHp7NZRdL"
      }
    },
    {
      "cell_type": "code",
      "source": [
        "1 + 2"
      ],
      "metadata": {
        "colab": {
          "base_uri": "https://localhost:8080/"
        },
        "id": "YNGQK_bDYpeh",
        "outputId": "e1a35141-90e5-4aef-8e9b-56105c379be0"
      },
      "execution_count": null,
      "outputs": [
        {
          "output_type": "execute_result",
          "data": {
            "text/plain": [
              "3"
            ]
          },
          "metadata": {},
          "execution_count": 8
        }
      ]
    },
    {
      "cell_type": "code",
      "source": [
        "2 - 3"
      ],
      "metadata": {
        "colab": {
          "base_uri": "https://localhost:8080/"
        },
        "id": "0RWrxcQrZU_3",
        "outputId": "1660c8da-5b1e-439a-d9fc-a844cde49696"
      },
      "execution_count": null,
      "outputs": [
        {
          "output_type": "execute_result",
          "data": {
            "text/plain": [
              "-1"
            ]
          },
          "metadata": {},
          "execution_count": 9
        }
      ]
    },
    {
      "cell_type": "code",
      "source": [
        "4 * 1"
      ],
      "metadata": {
        "colab": {
          "base_uri": "https://localhost:8080/"
        },
        "id": "OOE6B_p-ZWau",
        "outputId": "17075739-de75-4a4e-b3c7-f0f6a2562868"
      },
      "execution_count": null,
      "outputs": [
        {
          "output_type": "execute_result",
          "data": {
            "text/plain": [
              "4"
            ]
          },
          "metadata": {},
          "execution_count": 10
        }
      ]
    },
    {
      "cell_type": "code",
      "source": [
        "4/3"
      ],
      "metadata": {
        "colab": {
          "base_uri": "https://localhost:8080/"
        },
        "id": "073q6EY9ZXaz",
        "outputId": "5c42c818-0cc2-42fe-86c0-83a1ef5e859e"
      },
      "execution_count": null,
      "outputs": [
        {
          "output_type": "execute_result",
          "data": {
            "text/plain": [
              "1.3333333333333333"
            ]
          },
          "metadata": {},
          "execution_count": 11
        }
      ]
    },
    {
      "cell_type": "code",
      "source": [
        "5%3"
      ],
      "metadata": {
        "colab": {
          "base_uri": "https://localhost:8080/"
        },
        "id": "_g-nnR6cZYEO",
        "outputId": "e3b0d1bc-4641-4ffa-fd4d-3098348d6991"
      },
      "execution_count": null,
      "outputs": [
        {
          "output_type": "execute_result",
          "data": {
            "text/plain": [
              "2"
            ]
          },
          "metadata": {},
          "execution_count": 12
        }
      ]
    },
    {
      "cell_type": "code",
      "source": [
        "4**2"
      ],
      "metadata": {
        "colab": {
          "base_uri": "https://localhost:8080/"
        },
        "id": "kAuqeyNDZYt4",
        "outputId": "c138679a-1464-4c81-cc1f-e793e603800d"
      },
      "execution_count": null,
      "outputs": [
        {
          "output_type": "execute_result",
          "data": {
            "text/plain": [
              "16"
            ]
          },
          "metadata": {},
          "execution_count": 13
        }
      ]
    },
    {
      "cell_type": "code",
      "source": [
        "3//2 # Floor division"
      ],
      "metadata": {
        "colab": {
          "base_uri": "https://localhost:8080/"
        },
        "id": "_qbpIok8ZaDr",
        "outputId": "260d86d8-d3fe-4a9a-f9a3-f572f201367e"
      },
      "execution_count": null,
      "outputs": [
        {
          "output_type": "execute_result",
          "data": {
            "text/plain": [
              "1"
            ]
          },
          "metadata": {},
          "execution_count": 20
        }
      ]
    },
    {
      "cell_type": "code",
      "source": [
        "round(1.3)"
      ],
      "metadata": {
        "id": "TsCZpFASFO5d"
      },
      "execution_count": null,
      "outputs": []
    },
    {
      "cell_type": "markdown",
      "source": [
        "Storing our results in memory. Introduction to variables\n"
      ],
      "metadata": {
        "id": "SYJPPlzOZvnc"
      }
    },
    {
      "cell_type": "code",
      "source": [
        "result = 1+1\n",
        "result"
      ],
      "metadata": {
        "colab": {
          "base_uri": "https://localhost:8080/"
        },
        "id": "-ebw1fHgZatk",
        "outputId": "22710c0e-e077-424c-f5f9-db9197dc3196"
      },
      "execution_count": null,
      "outputs": [
        {
          "output_type": "execute_result",
          "data": {
            "text/plain": [
              "2"
            ]
          },
          "metadata": {},
          "execution_count": 21
        }
      ]
    },
    {
      "cell_type": "code",
      "source": [
        "print(result)"
      ],
      "metadata": {
        "colab": {
          "base_uri": "https://localhost:8080/"
        },
        "id": "b4mIjD3EZ3Wh",
        "outputId": "31833aea-9ce5-4c4d-a311-6086412d8eb2"
      },
      "execution_count": null,
      "outputs": [
        {
          "output_type": "stream",
          "name": "stdout",
          "text": [
            "2\n"
          ]
        }
      ]
    },
    {
      "cell_type": "code",
      "source": [
        "result2 = 2\n",
        "result - result2"
      ],
      "metadata": {
        "colab": {
          "base_uri": "https://localhost:8080/"
        },
        "id": "7EEBxx3mZ52J",
        "outputId": "917e9af0-eced-4419-9883-a6905fd9e177"
      },
      "execution_count": null,
      "outputs": [
        {
          "output_type": "execute_result",
          "data": {
            "text/plain": [
              "0"
            ]
          },
          "metadata": {},
          "execution_count": 24
        }
      ]
    },
    {
      "cell_type": "code",
      "source": [
        "type(result)"
      ],
      "metadata": {
        "colab": {
          "base_uri": "https://localhost:8080/"
        },
        "id": "qM8whLiFZ-2i",
        "outputId": "670d3fe8-ee46-4894-d037-47f2035a876f"
      },
      "execution_count": null,
      "outputs": [
        {
          "output_type": "execute_result",
          "data": {
            "text/plain": [
              "int"
            ]
          },
          "metadata": {},
          "execution_count": 25
        }
      ]
    },
    {
      "cell_type": "markdown",
      "source": [
        "Python Strings\n"
      ],
      "metadata": {
        "id": "umnCvCdraKTl"
      }
    },
    {
      "cell_type": "code",
      "source": [
        "my_string = 'Hello'\n",
        "type(my_string)"
      ],
      "metadata": {
        "colab": {
          "base_uri": "https://localhost:8080/"
        },
        "id": "AqueD9MuaG-X",
        "outputId": "df02fd38-9ea6-474d-d8eb-735ebb747dbc"
      },
      "execution_count": null,
      "outputs": [
        {
          "output_type": "execute_result",
          "data": {
            "text/plain": [
              "str"
            ]
          },
          "metadata": {},
          "execution_count": 26
        }
      ]
    },
    {
      "cell_type": "markdown",
      "source": [
        "Single or double quotes?\n"
      ],
      "metadata": {
        "id": "1GqhiCVGbD0y"
      }
    },
    {
      "cell_type": "code",
      "source": [
        "my_string2 = \"Hello\"\n",
        "type(my_string2)"
      ],
      "metadata": {
        "colab": {
          "base_uri": "https://localhost:8080/"
        },
        "id": "VL-lTv38aTfF",
        "outputId": "7270ada6-28f8-41d3-b98c-509577a94e2f"
      },
      "execution_count": null,
      "outputs": [
        {
          "output_type": "execute_result",
          "data": {
            "text/plain": [
              "str"
            ]
          },
          "metadata": {},
          "execution_count": 27
        }
      ]
    },
    {
      "cell_type": "code",
      "source": [
        "mystring = \"It's a single quote!\"\n",
        "mystring"
      ],
      "metadata": {
        "colab": {
          "base_uri": "https://localhost:8080/",
          "height": 35
        },
        "id": "RJzQjRcebI2Z",
        "outputId": "c10cbef3-c245-466c-800b-3f5f27d7347d"
      },
      "execution_count": null,
      "outputs": [
        {
          "output_type": "execute_result",
          "data": {
            "text/plain": [
              "\"It's a string, with a single quote!\""
            ],
            "application/vnd.google.colaboratory.intrinsic+json": {
              "type": "string"
            }
          },
          "metadata": {},
          "execution_count": 32
        }
      ]
    },
    {
      "cell_type": "code",
      "source": [
        "mystring = 'It's a single quote!'"
      ],
      "metadata": {
        "colab": {
          "base_uri": "https://localhost:8080/",
          "height": 140
        },
        "id": "o_RHRNSSbNp_",
        "outputId": "c8fc89f7-dd25-4afc-b759-64576fc5a03f"
      },
      "execution_count": null,
      "outputs": [
        {
          "output_type": "error",
          "ename": "SyntaxError",
          "evalue": "ignored",
          "traceback": [
            "\u001b[0;36m  File \u001b[0;32m\"<ipython-input-33-db515806fd73>\"\u001b[0;36m, line \u001b[0;32m1\u001b[0m\n\u001b[0;31m    mystring = 'It's a single quote!'\u001b[0m\n\u001b[0m                                    ^\u001b[0m\n\u001b[0;31mSyntaxError\u001b[0m\u001b[0;31m:\u001b[0m unterminated string literal (detected at line 1)\n"
          ]
        }
      ]
    },
    {
      "cell_type": "code",
      "source": [
        "'a' + 'b'"
      ],
      "metadata": {
        "colab": {
          "base_uri": "https://localhost:8080/",
          "height": 35
        },
        "id": "iHTeo-v-aax9",
        "outputId": "3b43d405-8230-4cb7-8eee-a1d329caeb5a"
      },
      "execution_count": null,
      "outputs": [
        {
          "output_type": "execute_result",
          "data": {
            "text/plain": [
              "'ab'"
            ],
            "application/vnd.google.colaboratory.intrinsic+json": {
              "type": "string"
            }
          },
          "metadata": {},
          "execution_count": 28
        }
      ]
    },
    {
      "cell_type": "code",
      "source": [
        "'a' * 4"
      ],
      "metadata": {
        "colab": {
          "base_uri": "https://localhost:8080/",
          "height": 35
        },
        "id": "i7eaIDZ_a5c6",
        "outputId": "257d9b15-8b25-4889-e036-332e752135b3"
      },
      "execution_count": null,
      "outputs": [
        {
          "output_type": "execute_result",
          "data": {
            "text/plain": [
              "'aaaa'"
            ],
            "application/vnd.google.colaboratory.intrinsic+json": {
              "type": "string"
            }
          },
          "metadata": {},
          "execution_count": 29
        }
      ]
    },
    {
      "cell_type": "code",
      "source": [
        "'c' - 'b'"
      ],
      "metadata": {
        "colab": {
          "base_uri": "https://localhost:8080/",
          "height": 175
        },
        "id": "zIQs87NFa8qD",
        "outputId": "d502f666-84ac-4955-bdab-827ca7d4069a"
      },
      "execution_count": null,
      "outputs": [
        {
          "output_type": "error",
          "ename": "TypeError",
          "evalue": "ignored",
          "traceback": [
            "\u001b[0;31m---------------------------------------------------------------------------\u001b[0m",
            "\u001b[0;31mTypeError\u001b[0m                                 Traceback (most recent call last)",
            "\u001b[0;32m<ipython-input-31-cdeb3f0a9076>\u001b[0m in \u001b[0;36m<cell line: 1>\u001b[0;34m()\u001b[0m\n\u001b[0;32m----> 1\u001b[0;31m \u001b[0;34m'c'\u001b[0m \u001b[0;34m-\u001b[0m \u001b[0;34m'b'\u001b[0m\u001b[0;34m\u001b[0m\u001b[0;34m\u001b[0m\u001b[0m\n\u001b[0m",
            "\u001b[0;31mTypeError\u001b[0m: unsupported operand type(s) for -: 'str' and 'str'"
          ]
        }
      ]
    },
    {
      "cell_type": "markdown",
      "source": [
        "Naming of variables\n",
        "\n",
        "\n",
        "Letters: a-z and A-Z\n",
        "Numbers: 0-9\n",
        "Underscores: _\n",
        "\n",
        "\n",
        "Variables **CAN'T** start with a number.\n"
      ],
      "metadata": {
        "id": "3Los-B-kaeRR"
      }
    },
    {
      "cell_type": "code",
      "source": [],
      "metadata": {
        "id": "0E5vv-1JaiHx"
      },
      "execution_count": null,
      "outputs": []
    },
    {
      "cell_type": "markdown",
      "source": [
        "If / Else Statements"
      ],
      "metadata": {
        "id": "pQc5vrcSYUxn"
      }
    },
    {
      "cell_type": "code",
      "source": [
        "a = 20\n",
        "if a >= 22:\n",
        "    print(\"if\")\n",
        "elif a >= 21:\n",
        "    print(\"elif\")\n",
        "else:\n",
        "    print(\"else\")"
      ],
      "metadata": {
        "id": "Vp9DJWfuYUSF"
      },
      "execution_count": null,
      "outputs": []
    },
    {
      "cell_type": "markdown",
      "source": [
        "Nested if statements"
      ],
      "metadata": {
        "id": "xrS27taDz_2h"
      }
    },
    {
      "cell_type": "code",
      "source": [
        "a = 1\n",
        "b = 2\n",
        "if a > 1:\n",
        "  print('woah')\n",
        "elif a == 1:\n",
        "  if b == 2:\n",
        "    print('yes')\n",
        "  else:\n",
        "    print('no')\n",
        "else:\n",
        "  print('Subscribe on Youtube')"
      ],
      "metadata": {
        "id": "Dldh3t4rz_Qf"
      },
      "execution_count": null,
      "outputs": []
    },
    {
      "cell_type": "markdown",
      "source": [
        "Looping in python\n"
      ],
      "metadata": {
        "id": "n01Et4i1blZj"
      }
    },
    {
      "cell_type": "code",
      "source": [
        "for a in range(1,3):\n",
        "    print (a)"
      ],
      "metadata": {
        "id": "khis98C9blEI"
      },
      "execution_count": null,
      "outputs": []
    },
    {
      "cell_type": "code",
      "source": [
        "list(range(1,3,1))"
      ],
      "metadata": {
        "colab": {
          "base_uri": "https://localhost:8080/"
        },
        "id": "7fCkQ8e-bqeh",
        "outputId": "6f855026-de30-4f3a-a241-28566d92250d"
      },
      "execution_count": null,
      "outputs": [
        {
          "output_type": "execute_result",
          "data": {
            "text/plain": [
              "[1, 2]"
            ]
          },
          "metadata": {},
          "execution_count": 38
        }
      ]
    },
    {
      "cell_type": "code",
      "source": [
        "help(range)"
      ],
      "metadata": {
        "id": "2jRnUI8FbrnY"
      },
      "execution_count": null,
      "outputs": []
    },
    {
      "cell_type": "code",
      "source": [
        "n = 0\n",
        "while n < 3:\n",
        "  print(n)\n",
        "  n =- 1\n",
        "\n",
        "print('Finished While loop')"
      ],
      "metadata": {
        "id": "UhHkXHzfknoF"
      },
      "execution_count": null,
      "outputs": []
    },
    {
      "cell_type": "code",
      "source": [
        "x == 0\n",
        "\n",
        "while True:\n",
        "  print('Woah')\n",
        "\n",
        "  if x == 1:\n",
        "    break\n",
        "\n",
        "  x += 1"
      ],
      "metadata": {
        "id": "UPf4vN-hk0_G"
      },
      "execution_count": null,
      "outputs": []
    },
    {
      "cell_type": "code",
      "source": [
        "#print(\"Am a comment\")\n",
        "\n",
        "# Write Comments by using the symbol #\n",
        "\n",
        "\n",
        "'''\n",
        "print(\"We are in a comment\")\n",
        "print (\"We are still in a comment\")\n",
        "'''\n",
        "\n",
        "\"\"\" Use the \"\"\"\n",
        "\n",
        "\"\"\" for multi\n",
        "    line comments  \"\"\"\n",
        "\n",
        "\"\"\"\n",
        "This is\n",
        "a multi-\n",
        "Line\n",
        "\"\"\""
      ],
      "metadata": {
        "id": "1Ds14BnibsUj"
      },
      "execution_count": null,
      "outputs": []
    },
    {
      "cell_type": "code",
      "source": [
        "def perform_addition(a, b):\n",
        "    print(a+b)\n",
        "    return a+b\n",
        "\n",
        "c  = perform_addition(12,451)\n",
        "print(c)\n"
      ],
      "metadata": {
        "id": "EUcKL1e3oPLY"
      },
      "execution_count": null,
      "outputs": []
    },
    {
      "cell_type": "code",
      "source": [
        "#ClassOne.py\n",
        "class Calculator:\n",
        "    #define class to simulate a simple calculator\n",
        "    def __init__ (self):\n",
        "        #start with zero\n",
        "        self.current = 0\n",
        "    def add(self, amount):\n",
        "        #add number to current\n",
        "        self.current += amount\n",
        "    def getCurrent(self):\n",
        "        return self.current\n",
        "\n",
        "\n",
        "\n",
        "myBuddy = Calculator() # make myBuddy into a Calculator object\n",
        "myBuddy.add(2) #use myBuddy's new add method derived from the Calculator class\n",
        "myBuddy.getCurrent()"
      ],
      "metadata": {
        "id": "n-AcJhBdcJeC",
        "colab": {
          "base_uri": "https://localhost:8080/"
        },
        "outputId": "77c2e71f-5fa0-45a4-97f8-61b0aa3441c1"
      },
      "execution_count": 2,
      "outputs": [
        {
          "output_type": "execute_result",
          "data": {
            "text/plain": [
              "2"
            ]
          },
          "metadata": {},
          "execution_count": 2
        }
      ]
    },
    {
      "cell_type": "code",
      "source": [],
      "metadata": {
        "id": "5lo8ab6M0cT_"
      },
      "execution_count": null,
      "outputs": []
    }
  ]
}